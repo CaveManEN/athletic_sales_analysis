{
 "cells": [
  {
   "cell_type": "code",
   "execution_count": 11,
   "metadata": {},
   "outputs": [],
   "source": [
    "# Import Libraries and Dependencies\n",
    "import pandas as pd"
   ]
  },
  {
   "cell_type": "markdown",
   "metadata": {},
   "source": [
    "### 1. Combine and Clean the Data\n",
    "#### Import CSVs"
   ]
  },
  {
   "cell_type": "code",
   "execution_count": 12,
   "metadata": {},
   "outputs": [],
   "source": [
    "# Read the CSV files into DataFrames.\n",
    "df_2020 = pd.read_csv(\"resources/athletic_sales_2020.csv\")\n",
    "df_2021 = pd.read_csv(\"resources/athletic_sales_2021.csv\")"
   ]
  },
  {
   "cell_type": "code",
   "execution_count": 13,
   "metadata": {},
   "outputs": [
    {
     "name": "stdout",
     "output_type": "stream",
     "text": [
      "         retailer  retailer_id invoice_date     region         state  \\\n",
      "0     Foot Locker      1185732       1/1/20  Northeast      New York   \n",
      "1     Foot Locker      1185732       1/1/20  Northeast  Pennsylvania   \n",
      "2     Foot Locker      1185732       1/1/20  Northeast  Pennsylvania   \n",
      "3     Foot Locker      1185732       1/1/20  Northeast      New York   \n",
      "4     Foot Locker      1185732       1/1/20  Northeast  Pennsylvania   \n",
      "...           ...          ...          ...        ...           ...   \n",
      "1292    West Gear      1128299     12/30/20       West    California   \n",
      "1293    West Gear      1128299     12/30/20       West    California   \n",
      "1294       Kohl's      1189833     12/30/20    Midwest     Minnesota   \n",
      "1295       Kohl's      1189833     12/30/20    Midwest     Minnesota   \n",
      "1296    West Gear      1128299     12/30/20       West    California   \n",
      "\n",
      "               city                  product  price_per_unit  units_sold  \\\n",
      "0          New York    Men's Street Footwear              50        1200   \n",
      "1      Philadelphia          Women's Apparel              68          83   \n",
      "2      Philadelphia          Women's Apparel              75         275   \n",
      "3          New York    Men's Street Footwear              34         384   \n",
      "4      Philadelphia          Women's Apparel              53          83   \n",
      "...             ...                      ...             ...         ...   \n",
      "1292  San Francisco          Women's Apparel              72         203   \n",
      "1293  San Francisco          Women's Apparel              80         700   \n",
      "1294    Minneapolis  Women's Street Footwear              41         119   \n",
      "1295    Minneapolis  Women's Street Footwear              45         475   \n",
      "1296  San Francisco          Women's Apparel              62         245   \n",
      "\n",
      "      total_sales  operating_profit sales_method  \n",
      "0          600000         300000.00     In-store  \n",
      "1            5644           2426.92       Online  \n",
      "2          206250          61875.00       Outlet  \n",
      "3           13056           6789.12       Outlet  \n",
      "4            4399           1407.68       Outlet  \n",
      "...           ...               ...          ...  \n",
      "1292        14616           3946.32       Online  \n",
      "1293       560000          84000.00       Outlet  \n",
      "1294         4879           2878.61       Online  \n",
      "1295       213750          96187.50       Outlet  \n",
      "1296        15190           2886.10       Outlet  \n",
      "\n",
      "[1297 rows x 12 columns]\n"
     ]
    }
   ],
   "source": [
    "# Display the 2020 sales DataFrame\n",
    "print (df_2020)"
   ]
  },
  {
   "cell_type": "code",
   "execution_count": 14,
   "metadata": {},
   "outputs": [
    {
     "name": "stdout",
     "output_type": "stream",
     "text": [
      "         retailer  retailer_id invoice_date     region         state  \\\n",
      "0       West Gear      1128299       1/1/21       West    California   \n",
      "1       West Gear      1128299       1/1/21       West    California   \n",
      "2          Kohl's      1189833       1/1/21    Midwest       Montana   \n",
      "3          Kohl's      1189833       1/1/21    Midwest       Montana   \n",
      "4       West Gear      1128299       1/1/21       West    California   \n",
      "...           ...          ...          ...        ...           ...   \n",
      "8341  Foot Locker      1185732     12/31/21  Northeast  Pennsylvania   \n",
      "8342  Foot Locker      1185732     12/31/21  Northeast  Pennsylvania   \n",
      "8343       Amazon      1185732     12/31/21  Northeast         Maine   \n",
      "8344       Amazon      1185732     12/31/21  Northeast         Maine   \n",
      "8345  Foot Locker      1185732     12/31/21  Northeast  Pennsylvania   \n",
      "\n",
      "               city                  product  price_per_unit  units_sold  \\\n",
      "0     San Francisco  Men's Athletic Footwear              65         750   \n",
      "1     San Francisco  Men's Athletic Footwear              51         233   \n",
      "2          Billings            Men's Apparel              50         275   \n",
      "3          Billings            Men's Apparel              47          77   \n",
      "4     San Francisco  Men's Athletic Footwear              64         225   \n",
      "...             ...                      ...             ...         ...   \n",
      "8341   Philadelphia            Men's Apparel              63          47   \n",
      "8342   Philadelphia            Men's Apparel              46          56   \n",
      "8343       Portland            Men's Apparel              52          36   \n",
      "8344       Portland            Men's Apparel              55         125   \n",
      "8345   Philadelphia            Men's Apparel              70         175   \n",
      "\n",
      "      total_sales  operating_profit sales_method  \n",
      "0          487500         121875.00       Outlet  \n",
      "1           11883           3208.41       Outlet  \n",
      "2          137500          82500.00       Outlet  \n",
      "3            3619           2714.25       Online  \n",
      "4           14400           5184.00       Online  \n",
      "...           ...               ...          ...  \n",
      "8341         2961           1362.06       Online  \n",
      "8342         2576           1004.64       Outlet  \n",
      "8343         1872            692.64       Online  \n",
      "8344        68750          17187.50       Outlet  \n",
      "8345       122500          42875.00       Outlet  \n",
      "\n",
      "[8346 rows x 12 columns]\n"
     ]
    }
   ],
   "source": [
    "# Display the 2021 sales DataFrame\n",
    "print (df_2021)"
   ]
  },
  {
   "cell_type": "markdown",
   "metadata": {},
   "source": [
    "#### Check the data types of each DataFrame"
   ]
  },
  {
   "cell_type": "code",
   "execution_count": 15,
   "metadata": {},
   "outputs": [
    {
     "name": "stdout",
     "output_type": "stream",
     "text": [
      "retailer             object\n",
      "retailer_id           int64\n",
      "invoice_date         object\n",
      "region               object\n",
      "state                object\n",
      "city                 object\n",
      "product              object\n",
      "price_per_unit        int64\n",
      "units_sold            int64\n",
      "total_sales           int64\n",
      "operating_profit    float64\n",
      "sales_method         object\n",
      "dtype: object\n"
     ]
    }
   ],
   "source": [
    "# Check the 2020 sales data types.\n",
    "\n",
    "print(df_2020.dtypes)\n"
   ]
  },
  {
   "cell_type": "code",
   "execution_count": 16,
   "metadata": {},
   "outputs": [
    {
     "name": "stdout",
     "output_type": "stream",
     "text": [
      "retailer             object\n",
      "retailer_id           int64\n",
      "invoice_date         object\n",
      "region               object\n",
      "state                object\n",
      "city                 object\n",
      "product              object\n",
      "price_per_unit        int64\n",
      "units_sold            int64\n",
      "total_sales           int64\n",
      "operating_profit    float64\n",
      "sales_method         object\n",
      "dtype: object\n"
     ]
    }
   ],
   "source": [
    "# Check the 2021 sales data types.\n",
    "\n",
    "print(df_2021.dtypes)\n"
   ]
  },
  {
   "cell_type": "markdown",
   "metadata": {},
   "source": [
    "#### Combine the sales data by rows."
   ]
  },
  {
   "cell_type": "code",
   "execution_count": 17,
   "metadata": {},
   "outputs": [],
   "source": [
    "# Combine the 2020 and 2021 sales DataFrames on the rows\n",
    "combined_df = pd.concat([df_2020, df_2021], ignore_index=True)\n",
    "\n",
    "# Reset the index\n",
    "combined_df.reset_index(drop=True, inplace=True)"
   ]
  },
  {
   "cell_type": "code",
   "execution_count": 18,
   "metadata": {},
   "outputs": [
    {
     "name": "stdout",
     "output_type": "stream",
     "text": [
      "retailer            False\n",
      "retailer_id         False\n",
      "invoice_date        False\n",
      "region              False\n",
      "state               False\n",
      "city                False\n",
      "product             False\n",
      "price_per_unit      False\n",
      "units_sold          False\n",
      "total_sales         False\n",
      "operating_profit    False\n",
      "sales_method        False\n",
      "dtype: bool\n"
     ]
    }
   ],
   "source": [
    "# Check if any values are null.\n",
    "print(combined_df.isnull().any())"
   ]
  },
  {
   "cell_type": "code",
   "execution_count": 19,
   "metadata": {},
   "outputs": [
    {
     "name": "stdout",
     "output_type": "stream",
     "text": [
      "retailer             object\n",
      "retailer_id           int64\n",
      "invoice_date         object\n",
      "region               object\n",
      "state                object\n",
      "city                 object\n",
      "product              object\n",
      "price_per_unit        int64\n",
      "units_sold            int64\n",
      "total_sales           int64\n",
      "operating_profit    float64\n",
      "sales_method         object\n",
      "dtype: object\n"
     ]
    }
   ],
   "source": [
    "# Check the data type of each column\n",
    "print(combined_df.dtypes)"
   ]
  },
  {
   "cell_type": "code",
   "execution_count": 23,
   "metadata": {},
   "outputs": [],
   "source": [
    "# Convert the \"invoice_date\" to a datetime datatype\n",
    "combined_df[\"invoice_date\"] = pd.to_datetime(combined_df[\"invoice_date\"], format=\"%Y-%m-%d\")\n"
   ]
  },
  {
   "cell_type": "code",
   "execution_count": 28,
   "metadata": {},
   "outputs": [
    {
     "name": "stdout",
     "output_type": "stream",
     "text": [
      "retailer                    object\n",
      "retailer_id                  int64\n",
      "invoice_date        datetime64[ns]\n",
      "region                      object\n",
      "state                       object\n",
      "city                        object\n",
      "product                     object\n",
      "price_per_unit               int64\n",
      "units_sold                   int64\n",
      "total_sales                  int64\n",
      "operating_profit           float64\n",
      "sales_method                object\n",
      "dtype: object\n"
     ]
    }
   ],
   "source": [
    "# Confirm that the \"invoice_date\" data type has been changed\n",
    "print(combined_df.dtypes)"
   ]
  },
  {
   "cell_type": "markdown",
   "metadata": {},
   "source": [
    "### 2. Determine which Region Sold the Most Products"
   ]
  },
  {
   "cell_type": "markdown",
   "metadata": {},
   "source": [
    "#### Using `groupby`"
   ]
  },
  {
   "cell_type": "code",
   "execution_count": 39,
   "metadata": {},
   "outputs": [
    {
     "name": "stdout",
     "output_type": "stream",
     "text": [
      "    region     state          city  Total_Products_Sold\n",
      "0  Midwest  Illinois       Chicago                25407\n",
      "1  Midwest   Indiana  Indianapolis                26332\n",
      "2  Midwest      Iowa    Des Moines                23446\n",
      "3  Midwest    Kansas       Wichita                29463\n",
      "4  Midwest  Michigan       Detroit                50095\n"
     ]
    }
   ],
   "source": [
    "# Group by region, state, and city and sum the number of products sold\n",
    "product_sales_by_location = combined_df.groupby([\"region\", \"state\", \"city\"])[\"units_sold\"].sum().reset_index()\n",
    "\n",
    "# Rename the sum to \"Total_Products_Sold\"\n",
    "product_sales_by_location.rename(columns={\"units_sold\": \"Total_Products_Sold\"}, inplace=True)\n",
    "\n",
    "# Show the top 5 results\n",
    "top_5_results = product_sales_by_location.head(5)\n",
    "print(top_5_results)\n",
    "\n",
    "                            "
   ]
  },
  {
   "cell_type": "markdown",
   "metadata": {},
   "source": [
    "#### Using `pivot_table`"
   ]
  },
  {
   "cell_type": "code",
   "execution_count": 40,
   "metadata": {},
   "outputs": [
    {
     "name": "stdout",
     "output_type": "stream",
     "text": [
      "    region     state          city  Total_Products_Sold\n",
      "0  Midwest  Illinois       Chicago                25407\n",
      "1  Midwest   Indiana  Indianapolis                26332\n",
      "2  Midwest      Iowa    Des Moines                23446\n",
      "3  Midwest    Kansas       Wichita                29463\n",
      "4  Midwest  Michigan       Detroit                50095\n"
     ]
    }
   ],
   "source": [
    "# Group by region, state, and city and sum the number of products sold\n",
    "product_sales_by_location = combined_df.groupby([\"region\", \"state\", \"city\"])[\"units_sold\"].sum().reset_index()\n",
    "\n",
    "# Rename the \"units_sold\" column to \"Total_Products_Sold\"\n",
    "product_sales_by_location.rename(columns={\"units_sold\": \"Total_Products_Sold\"}, inplace=True)\n",
    "\n",
    "# Show the top 5 results\n",
    "top_5_results = product_sales_by_location.head(5)\n",
    "print(top_5_results)\n"
   ]
  },
  {
   "cell_type": "markdown",
   "metadata": {},
   "source": [
    "### 3. Determine which Region had the Most Sales"
   ]
  },
  {
   "cell_type": "markdown",
   "metadata": {},
   "source": [
    "#### Using `groupby`"
   ]
  },
  {
   "cell_type": "code",
   "execution_count": 41,
   "metadata": {},
   "outputs": [
    {
     "name": "stdout",
     "output_type": "stream",
     "text": [
      "    region     state          city  Total Sales\n",
      "0  Midwest  Illinois       Chicago      9797488\n",
      "1  Midwest   Indiana  Indianapolis      8836198\n",
      "2  Midwest      Iowa    Des Moines      7424011\n",
      "3  Midwest    Kansas       Wichita      9972864\n",
      "4  Midwest  Michigan       Detroit     18625433\n"
     ]
    }
   ],
   "source": [
    "# Group by region, state, and city and sum the total sales\n",
    "total_sales_by_location = combined_df.groupby([\"region\", \"state\", \"city\"])[\"total_sales\"].sum().reset_index()\n",
    "\n",
    "# Rename the \"total_sales\" column to \"Total Sales\"\n",
    "total_sales_by_location.rename(columns={\"total_sales\": \"Total Sales\"}, inplace=True)\n",
    "\n",
    "# Show the top 5 results\n",
    "top_5_results = total_sales_by_location.head(5)\n",
    "print(top_5_results)\n"
   ]
  },
  {
   "cell_type": "markdown",
   "metadata": {},
   "source": [
    "#### Using `pivot_table`"
   ]
  },
  {
   "cell_type": "code",
   "execution_count": 42,
   "metadata": {},
   "outputs": [
    {
     "name": "stdout",
     "output_type": "stream",
     "text": [
      "    region     state          city  Total Sales\n",
      "0  Midwest  Illinois       Chicago      9797488\n",
      "1  Midwest   Indiana  Indianapolis      8836198\n",
      "2  Midwest      Iowa    Des Moines      7424011\n",
      "3  Midwest    Kansas       Wichita      9972864\n",
      "4  Midwest  Michigan       Detroit     18625433\n"
     ]
    }
   ],
   "source": [
    "# Group by region, state, and city and sum the total sales\n",
    "sales_by_location = combined_df.groupby([\"region\", \"state\", \"city\"])[\"total_sales\"].sum().reset_index()\n",
    "\n",
    "# Optionally rename the \"total_sales\" column to \"Total Sales\"\n",
    "sales_by_location.rename(columns={\"total_sales\": \"Total Sales\"}, inplace=True)\n",
    "\n",
    "# Show the top 5 results\n",
    "top_5_results = sales_by_location.head(5)\n",
    "print(top_5_results)\n"
   ]
  },
  {
   "cell_type": "markdown",
   "metadata": {
    "tags": []
   },
   "source": [
    "### 4. Determine which Retailer had the Most Sales"
   ]
  },
  {
   "cell_type": "markdown",
   "metadata": {},
   "source": [
    "#### Using `groupby`"
   ]
  },
  {
   "cell_type": "code",
   "execution_count": 43,
   "metadata": {},
   "outputs": [
    {
     "name": "stdout",
     "output_type": "stream",
     "text": [
      "  retailer     region          state        city  Total Sales\n",
      "0   Amazon    Midwest           Ohio    Columbus     16835873\n",
      "1   Amazon  Northeast          Maine    Portland      8611395\n",
      "2   Amazon  Northeast  Massachusetts      Boston      4193590\n",
      "3   Amazon  Northeast  New Hampshire  Manchester     10077142\n",
      "4   Amazon  Northeast        Vermont  Burlington     13380463\n"
     ]
    }
   ],
   "source": [
    "# Group by retailer, region, state, and city and sum the total sales\n",
    "sales_by_location_and_retailer = combined_df.groupby([\"retailer\", \"region\", \"state\", \"city\"])[\"total_sales\"].sum().reset_index()\n",
    "\n",
    "# Rename the \"total_sales\" column to \"Total Sales\"\n",
    "sales_by_location_and_retailer.rename(columns={\"total_sales\": \"Total Sales\"}, inplace=True)\n",
    "\n",
    "# Show the top 5 results\n",
    "top_5_results = sales_by_location_and_retailer.head(5)\n",
    "print(top_5_results)\n"
   ]
  },
  {
   "cell_type": "markdown",
   "metadata": {},
   "source": [
    "#### Using `pivot_table`"
   ]
  },
  {
   "cell_type": "code",
   "execution_count": 44,
   "metadata": {},
   "outputs": [
    {
     "name": "stdout",
     "output_type": "stream",
     "text": [
      "  retailer     region          state        city  Total Sales\n",
      "0   Amazon    Midwest           Ohio    Columbus     16835873\n",
      "1   Amazon  Northeast          Maine    Portland      8611395\n",
      "2   Amazon  Northeast  Massachusetts      Boston      4193590\n",
      "3   Amazon  Northeast  New Hampshire  Manchester     10077142\n",
      "4   Amazon  Northeast        Vermont  Burlington     13380463\n"
     ]
    }
   ],
   "source": [
    "# Group by retailer, region, state, and city and sum the total sales\n",
    "sales_by_location_and_retailer = combined_df.groupby([\"retailer\", \"region\", \"state\", \"city\"])[\"total_sales\"].sum().reset_index()\n",
    "\n",
    "# Optionally rename the \"total_sales\" column to \"Total Sales\"\n",
    "sales_by_location_and_retailer.rename(columns={\"total_sales\": \"Total Sales\"}, inplace=True)\n",
    "\n",
    "# Show the top 5 results\n",
    "top_5_results = sales_by_location_and_retailer.head(5)\n",
    "print(top_5_results)\n"
   ]
  },
  {
   "cell_type": "markdown",
   "metadata": {},
   "source": [
    "### 5. Determine which Retailer Sold the Most Women's Athletic Footwear"
   ]
  },
  {
   "cell_type": "code",
   "execution_count": 52,
   "metadata": {},
   "outputs": [
    {
     "name": "stdout",
     "output_type": "stream",
     "text": [
      "         retailer  retailer_id invoice_date     region         state  \\\n",
      "14    Foot Locker      1185732   2020-01-03  Northeast      New York   \n",
      "15    Foot Locker      1185732   2020-01-03  Northeast      New York   \n",
      "17    Foot Locker      1185732   2020-01-03  Northeast      New York   \n",
      "18      West Gear      1128299   2020-01-04  Northeast  Pennsylvania   \n",
      "19      West Gear      1128299   2020-01-04  Northeast  Pennsylvania   \n",
      "...           ...          ...          ...        ...           ...   \n",
      "9628  Foot Locker      1185732   2021-12-29  Northeast  Pennsylvania   \n",
      "9629       Amazon      1185732   2021-12-29  Northeast         Maine   \n",
      "9630  Foot Locker      1185732   2021-12-29  Northeast  Pennsylvania   \n",
      "9631       Amazon      1185732   2021-12-29  Northeast         Maine   \n",
      "9632  Foot Locker      1185732   2021-12-29  Northeast  Pennsylvania   \n",
      "\n",
      "              city                  product  price_per_unit  units_sold  \\\n",
      "14        New York  Women's Street Footwear              32         350   \n",
      "15        New York  Women's Street Footwear              40        1000   \n",
      "17        New York  Women's Street Footwear              36         250   \n",
      "18    Philadelphia  Women's Street Footwear              36         140   \n",
      "19    Philadelphia  Women's Street Footwear              41         117   \n",
      "...            ...                      ...             ...         ...   \n",
      "9628  Philadelphia  Women's Street Footwear              55          65   \n",
      "9629      Portland  Women's Street Footwear              45         150   \n",
      "9630  Philadelphia  Women's Street Footwear              60         225   \n",
      "9631      Portland  Women's Street Footwear              41          38   \n",
      "9632  Philadelphia  Women's Street Footwear              44          79   \n",
      "\n",
      "      total_sales  operating_profit sales_method  \n",
      "14          11200           4144.00       Outlet  \n",
      "15         400000         140000.00     In-store  \n",
      "17           9000           4140.00       Online  \n",
      "18           5040           2368.80       Outlet  \n",
      "19           4797           2590.38       Online  \n",
      "...           ...               ...          ...  \n",
      "9628         3575           1894.75       Online  \n",
      "9629        67500          27000.00       Outlet  \n",
      "9630       135000          54000.00       Outlet  \n",
      "9631         1558            856.90       Online  \n",
      "9632         3476           1529.44       Outlet  \n",
      "\n",
      "[1608 rows x 12 columns]\n"
     ]
    }
   ],
   "source": [
    "# Filter the sales data to get the women's street footwear sales data\n",
    "womens_street_footwear_sales = combined_df[combined_df['product'] == \"Women's Street Footwear\"]\n",
    "\n",
    "# Display the filtered sales data\n",
    "print(womens_street_footwear_sales)\n"
   ]
  },
  {
   "cell_type": "markdown",
   "metadata": {},
   "source": [
    "#### Using `groupby`"
   ]
  },
  {
   "cell_type": "code",
   "execution_count": 53,
   "metadata": {},
   "outputs": [
    {
     "name": "stdout",
     "output_type": "stream",
     "text": [
      "  retailer     region          state        city  \\\n",
      "0   Amazon    Midwest           Ohio    Columbus   \n",
      "1   Amazon  Northeast          Maine    Portland   \n",
      "2   Amazon  Northeast  Massachusetts      Boston   \n",
      "3   Amazon  Northeast  New Hampshire  Manchester   \n",
      "4   Amazon  Northeast        Vermont  Burlington   \n",
      "\n",
      "   Womens_Street_Footwear_Units_Sold  \n",
      "0                               6281  \n",
      "1                               2679  \n",
      "2                               1980  \n",
      "3                               3562  \n",
      "4                               5195  \n"
     ]
    }
   ],
   "source": [
    "# Filter the sales data to get the women's street footwear sales data\n",
    "womens_street_footwear_sales = combined_df[combined_df['product'] == \"Women's Street Footwear\"]\n",
    "\n",
    "# Group by retailer, region, state, and city and sum the number of women's street footwear sold\n",
    "womens_street_footwear_sales_by_location = womens_street_footwear_sales.groupby([\"retailer\", \"region\", \"state\", \"city\"])[\"units_sold\"].sum().reset_index()\n",
    "\n",
    "# Rename the \"units_sold\" column to \"Womens_Street_Footwear_Units_Sold\"\n",
    "womens_street_footwear_sales_by_location.rename(columns={\"units_sold\": \"Womens_Street_Footwear_Units_Sold\"}, inplace=True)\n",
    "\n",
    "# Show the top 5 results\n",
    "top_5_results = womens_street_footwear_sales_by_location.head(5)\n",
    "print(top_5_results)\n"
   ]
  },
  {
   "cell_type": "markdown",
   "metadata": {},
   "source": [
    "#### Using `pivot_table`"
   ]
  },
  {
   "cell_type": "code",
   "execution_count": 55,
   "metadata": {},
   "outputs": [
    {
     "name": "stdout",
     "output_type": "stream",
     "text": [
      "  retailer     region          state        city  \\\n",
      "0   Amazon    Midwest           Ohio    Columbus   \n",
      "1   Amazon  Northeast          Maine    Portland   \n",
      "2   Amazon  Northeast  Massachusetts      Boston   \n",
      "3   Amazon  Northeast  New Hampshire  Manchester   \n",
      "4   Amazon  Northeast        Vermont  Burlington   \n",
      "\n",
      "   Womens_Street_Footwear_Units_Sold  \n",
      "0                               6281  \n",
      "1                               2679  \n",
      "2                               1980  \n",
      "3                               3562  \n",
      "4                               5195  \n"
     ]
    }
   ],
   "source": [
    "# Filter the sales data to get the women's street footwear sales data\n",
    "womens_street_footwear_sales = combined_df[combined_df['product'] == \"Women's Street Footwear\"]\n",
    "\n",
    "# Group by retailer, region, state, and city and sum the number of women's street footwear sold\n",
    "womens_street_footwear_sales_by_location = womens_street_footwear_sales.groupby([\"retailer\", \"region\", \"state\", \"city\"])[\"units_sold\"].sum().reset_index()\n",
    "\n",
    "# Rename the \"units_sold\" column to \"Womens_Street_Footwear_Units_Sold\"\n",
    "womens_street_footwear_sales_by_location.rename(columns={\"units_sold\": \"Womens_Street_Footwear_Units_Sold\"}, inplace=True)\n",
    "\n",
    "# Show the top 5 results\n",
    "top_5_results = womens_street_footwear_sales_by_location.head(5)\n",
    "print(top_5_results)\n"
   ]
  },
  {
   "cell_type": "markdown",
   "metadata": {},
   "source": [
    "### 5. Determine the Day with the Most Women's Athletic Footwear Sales"
   ]
  },
  {
   "cell_type": "code",
   "execution_count": 56,
   "metadata": {},
   "outputs": [
    {
     "name": "stdout",
     "output_type": "stream",
     "text": [
      "              Total Sales\n",
      "invoice_date             \n",
      "2020-01-01         845141\n",
      "2020-01-02         689410\n",
      "2020-01-03         632573\n",
      "2020-01-04         615080\n",
      "2020-01-05         707829\n",
      "...                   ...\n",
      "2021-12-27         602353\n",
      "2021-12-28         301010\n",
      "2021-12-29         211109\n",
      "2021-12-30         167903\n",
      "2021-12-31         198659\n",
      "\n",
      "[723 rows x 1 columns]\n"
     ]
    }
   ],
   "source": [
    "# Create a pivot table with 'invoice_date' as index and 'total_sales' as values\n",
    "pivot_table = combined_df.pivot_table(index='invoice_date', values='total_sales', aggfunc='sum')\n",
    "\n",
    "# Optionally rename the \"total_sales\" column to \"Total Sales\"\n",
    "pivot_table.rename(columns={\"total_sales\": \"Total Sales\"}, inplace=True)\n",
    "\n",
    "# Show the table\n",
    "print(pivot_table)\n"
   ]
  },
  {
   "cell_type": "code",
   "execution_count": 57,
   "metadata": {},
   "outputs": [
    {
     "name": "stdout",
     "output_type": "stream",
     "text": [
      "              Total Sales\n",
      "invoice_date             \n",
      "2020-12-31              0\n",
      "2020-10-11              0\n",
      "2020-10-12              0\n",
      "2020-10-13              0\n",
      "2020-10-14              0\n",
      "...                   ...\n",
      "2021-07-23        7689134\n",
      "2021-08-17        9517031\n",
      "2021-06-17       10239903\n",
      "2021-12-16       10871121\n",
      "2021-07-16       12261098\n",
      "\n",
      "[731 rows x 1 columns]\n"
     ]
    }
   ],
   "source": [
    "# Resample the pivot table into daily bins and get the total sales for each day\n",
    "daily_sales = pivot_table.resample('D').sum()\n",
    "\n",
    "# Sort the resampled pivot table in ascending order on \"Total Sales\"\n",
    "daily_sales_sorted = daily_sales.sort_values(by=\"Total Sales\", ascending=True)\n",
    "\n",
    "# Show the sorted resampled pivot table\n",
    "print(daily_sales_sorted)\n"
   ]
  },
  {
   "cell_type": "markdown",
   "metadata": {},
   "source": [
    "### 6.  Determine the Week with the Most Women's Athletic Footwear Sales"
   ]
  },
  {
   "cell_type": "code",
   "execution_count": 58,
   "metadata": {},
   "outputs": [
    {
     "name": "stdout",
     "output_type": "stream",
     "text": [
      "              Total Sales\n",
      "invoice_date             \n",
      "2020-10-18         251468\n",
      "2020-12-13         466322\n",
      "2020-12-20         590227\n",
      "2020-12-06         739673\n",
      "2020-11-22         927605\n",
      "...                   ...\n",
      "2021-08-22       22225401\n",
      "2021-12-12       23250286\n",
      "2021-12-19       24698535\n",
      "2021-07-18       24731702\n",
      "2021-07-11       26271380\n",
      "\n",
      "[105 rows x 1 columns]\n"
     ]
    }
   ],
   "source": [
    "# Resample the pivot table into weekly bins and get the total sales for each week\n",
    "weekly_sales = pivot_table.resample('W').sum()\n",
    "\n",
    "# Sort the resampled pivot table in ascending order on \"Total Sales\"\n",
    "weekly_sales_sorted = weekly_sales.sort_values(by=\"Total Sales\", ascending=True)\n",
    "\n",
    "# Show the sorted resampled pivot table\n",
    "print(weekly_sales_sorted)\n"
   ]
  },
  {
   "cell_type": "code",
   "execution_count": null,
   "metadata": {},
   "outputs": [],
   "source": []
  }
 ],
 "metadata": {
  "kernelspec": {
   "display_name": "Python 3 (ipykernel)",
   "language": "python",
   "name": "python3"
  },
  "language_info": {
   "codemirror_mode": {
    "name": "ipython",
    "version": 3
   },
   "file_extension": ".py",
   "mimetype": "text/x-python",
   "name": "python",
   "nbconvert_exporter": "python",
   "pygments_lexer": "ipython3",
   "version": "3.9.18"
  }
 },
 "nbformat": 4,
 "nbformat_minor": 4
}
